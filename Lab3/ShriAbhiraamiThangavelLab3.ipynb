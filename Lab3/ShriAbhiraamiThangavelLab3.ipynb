{
  "nbformat": 4,
  "nbformat_minor": 0,
  "metadata": {
    "colab": {
      "provenance": []
    },
    "kernelspec": {
      "name": "python3",
      "display_name": "Python 3"
    },
    "language_info": {
      "name": "python"
    }
  },
  "cells": [
    {
      "cell_type": "markdown",
      "source": [
        "Question #1 \n",
        "\n",
        "Given array a = [30, 45, 22, 75, 84] and array b = [67, 40, 90, 13, 56]:\n",
        "\n",
        "a. For every element e in a and b, calculate and print whether a[e] > b[e].\n",
        "\n",
        "b. Use a binary mask to change all values where a[e] > 30 to be set to 50."
      ],
      "metadata": {
        "id": "StnPITQx1vsA"
      }
    },
    {
      "cell_type": "markdown",
      "source": [
        "Question #1 Part a"
      ],
      "metadata": {
        "id": "qBvQFhf68QdA"
      }
    },
    {
      "cell_type": "code",
      "source": [
        "import numpy as np\n",
        "\n",
        "a = np.array([30, 45, 22, 75, 84])\n",
        "b = np.array([67, 40, 90, 13, 56])\n",
        "\n",
        "print(a > b)"
      ],
      "metadata": {
        "id": "1DQoLGtO1_WA",
        "colab": {
          "base_uri": "https://localhost:8080/"
        },
        "outputId": "e2f78191-d978-449d-8999-a14dad038da8"
      },
      "execution_count": null,
      "outputs": [
        {
          "output_type": "stream",
          "name": "stdout",
          "text": [
            "[False  True False  True  True]\n"
          ]
        }
      ]
    },
    {
      "cell_type": "markdown",
      "source": [
        "Question #1 Part b"
      ],
      "metadata": {
        "id": "uE9iex5C7KE2"
      }
    },
    {
      "cell_type": "code",
      "source": [
        "a[a > 30] = 50\n",
        "print(a)"
      ],
      "metadata": {
        "colab": {
          "base_uri": "https://localhost:8080/"
        },
        "id": "wPUevVgT7Ngl",
        "outputId": "a2297043-df70-46d7-96a0-d2827517cc66"
      },
      "execution_count": null,
      "outputs": [
        {
          "output_type": "stream",
          "name": "stdout",
          "text": [
            "[30 50 22 50 50]\n"
          ]
        }
      ]
    },
    {
      "cell_type": "markdown",
      "source": [
        "Question #2\n",
        "\n",
        "Given array x = [[5, 2, 6, 1], [3, 4, 7, 2], [8, 1, 2, 9], [3, 4, 2, 6]], calculate the sum of the highlighted and bolded elements using indexing."
      ],
      "metadata": {
        "id": "yUYMODKW8EAW"
      }
    },
    {
      "cell_type": "code",
      "source": [
        "import numpy as np\n",
        "\n",
        "x = np.array([[5, 2, 6, 1], [3, 4, 7, 2], [8, 1, 2, 9], [3, 4, 2, 6]])\n",
        "print(x[0,2]+x[3,1])"
      ],
      "metadata": {
        "colab": {
          "base_uri": "https://localhost:8080/"
        },
        "id": "uNjTIYUV8GgS",
        "outputId": "adb9adee-5277-4689-c3fd-a826f919b0b9"
      },
      "execution_count": null,
      "outputs": [
        {
          "output_type": "stream",
          "name": "stdout",
          "text": [
            "10\n"
          ]
        }
      ]
    },
    {
      "cell_type": "markdown",
      "source": [
        "Question #3\n",
        "\n",
        "Given array c = [[1, 0], [8, 1]] and array d = [[4, 1], [2, 2]], calculate the dot product of c and d."
      ],
      "metadata": {
        "id": "vn7EGLCn8-dg"
      }
    },
    {
      "cell_type": "code",
      "source": [
        "import numpy as np\n",
        "\n",
        "c = np.array([[1, 0], [8, 1]])\n",
        "d = np.array([[4, 1], [2, 2]])\n",
        "\n",
        "print(np.dot(c,d))"
      ],
      "metadata": {
        "colab": {
          "base_uri": "https://localhost:8080/"
        },
        "id": "M1qVvUKf9Ey7",
        "outputId": "f95511d6-f35f-4b97-ab74-8332ad6200ac"
      },
      "execution_count": null,
      "outputs": [
        {
          "output_type": "stream",
          "name": "stdout",
          "text": [
            "[[ 4  1]\n",
            " [34 10]]\n"
          ]
        }
      ]
    },
    {
      "cell_type": "markdown",
      "source": [
        "Question #4\n",
        "\n",
        "Given array a = [[1, 4], [2, 9], [5, 6]], find the shape and transpose of a."
      ],
      "metadata": {
        "id": "bSy9LVou9zDo"
      }
    },
    {
      "cell_type": "code",
      "source": [
        "import numpy as np\n",
        "\n",
        "a = np.array( [[1, 4], [2, 9], [5, 6]])\n",
        "print(a.shape)\n",
        "print(a.T)"
      ],
      "metadata": {
        "colab": {
          "base_uri": "https://localhost:8080/"
        },
        "id": "3jPCy8bt97UB",
        "outputId": "f17278fd-12aa-404a-fe14-ee1d0acced73"
      },
      "execution_count": null,
      "outputs": [
        {
          "output_type": "stream",
          "name": "stdout",
          "text": [
            "(3, 2)\n",
            "[[1 2 5]\n",
            " [4 9 6]]\n"
          ]
        }
      ]
    },
    {
      "cell_type": "markdown",
      "source": [
        "Question #5\n",
        "\n",
        "Given array x = [[1, 2], [3, 4]] and array y = [[5, 6], [7, 8], [9, 0]], stack the arrays in sequence vertically."
      ],
      "metadata": {
        "id": "rn8i7x8v-a8R"
      }
    },
    {
      "cell_type": "code",
      "source": [
        "import numpy as np\n",
        "\n",
        "x = np.array([[1, 2], [3, 4]])\n",
        "y = np.array([[5, 6], [7, 8], [9, 0]])\n",
        "\n",
        "print(np.vstack([x,y]))"
      ],
      "metadata": {
        "colab": {
          "base_uri": "https://localhost:8080/"
        },
        "id": "q0B8oQ7b-ejR",
        "outputId": "d93aad60-e852-4cb0-d2aa-582685601f3b"
      },
      "execution_count": null,
      "outputs": [
        {
          "output_type": "stream",
          "name": "stdout",
          "text": [
            "[[1 2]\n",
            " [3 4]\n",
            " [5 6]\n",
            " [7 8]\n",
            " [9 0]]\n"
          ]
        }
      ]
    },
    {
      "cell_type": "markdown",
      "source": [
        "Question #6\n",
        "\n",
        "Calculate the area of x2 + y2 ≤ 1 by uniformly sampling x in [-1,1] and y in [-1,1]"
      ],
      "metadata": {
        "id": "zwQOmnLn_VXE"
      }
    },
    {
      "cell_type": "code",
      "source": [
        "import numpy as np\n",
        "\n",
        "trial = 1000000\n",
        "x = np.random.uniform(-1,1,size=trial)\n",
        "y = np.random.uniform(-1,1,size=trial)\n",
        "\n",
        "z = x**2+y**2\n",
        "probability = np.sum(z<=1)/trial\n",
        "area_of_square = 4\n",
        "area_of_circle = probability * area_of_square\n",
        "print(area_of_circle)"
      ],
      "metadata": {
        "colab": {
          "base_uri": "https://localhost:8080/"
        },
        "id": "GTL_951n_YR_",
        "outputId": "6d3ccd2d-134f-4381-b4b5-a7d31a649a5a"
      },
      "execution_count": 1,
      "outputs": [
        {
          "output_type": "stream",
          "name": "stdout",
          "text": [
            "3.143104\n"
          ]
        }
      ]
    },
    {
      "cell_type": "markdown",
      "source": [
        "Question #7\n",
        "\n",
        "Calculate the probability that x2 + y2 ≤ 1 if x and y are two standard Gaussian distribution variables."
      ],
      "metadata": {
        "id": "mA2dPt0qCr7i"
      }
    },
    {
      "cell_type": "code",
      "source": [
        "import numpy as np\n",
        "\n",
        "trial = 1000000\n",
        "x = np.random.randn(trial)\n",
        "y = np.random.randn(trial)\n",
        "\n",
        "z = x**2+y**2\n",
        "print(np.sum(z<=1)/trial)"
      ],
      "metadata": {
        "colab": {
          "base_uri": "https://localhost:8080/"
        },
        "id": "Q_HA4OkRC3ab",
        "outputId": "db35b578-daf2-44f0-af78-a4d665d0321f"
      },
      "execution_count": null,
      "outputs": [
        {
          "output_type": "stream",
          "name": "stdout",
          "text": [
            "0.39156\n"
          ]
        }
      ]
    },
    {
      "cell_type": "markdown",
      "source": [
        "Question #8\n",
        "\n",
        "Calculate the probability that the sum of three dices is larger than 10 if you randomly roll the three dices."
      ],
      "metadata": {
        "id": "Dr-Jkw7ME1rr"
      }
    },
    {
      "cell_type": "code",
      "source": [
        "import numpy as np\n",
        "\n",
        "trial = 1000000\n",
        "data = np.random.randint(1,7, size = 3*trial)\n",
        "#print(data)\n",
        "each_trial = data.reshape(trial,3)\n",
        "#print(each_trial)\n",
        "sum_on_each_trial = each_trial.sum(axis=1)\n",
        "#print(sum_on_each_trial)\n",
        "sum_more_than_ten = np.sum(sum_on_each_trial>10)\n",
        "#print(sum_more_than_ten)\n",
        "prob = sum_more_than_ten/trial\n",
        "print(prob)"
      ],
      "metadata": {
        "colab": {
          "base_uri": "https://localhost:8080/"
        },
        "id": "egbEqPj_GWEr",
        "outputId": "834a3a49-24b9-4384-811a-673a7e870c66"
      },
      "execution_count": null,
      "outputs": [
        {
          "output_type": "stream",
          "name": "stdout",
          "text": [
            "0.500936\n"
          ]
        }
      ]
    }
  ]
}