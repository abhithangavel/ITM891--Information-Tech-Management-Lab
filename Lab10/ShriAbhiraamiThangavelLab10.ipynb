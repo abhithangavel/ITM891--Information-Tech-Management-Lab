{
  "nbformat": 4,
  "nbformat_minor": 0,
  "metadata": {
    "colab": {
      "provenance": []
    },
    "kernelspec": {
      "name": "python3",
      "display_name": "Python 3"
    },
    "language_info": {
      "name": "python"
    },
    "accelerator": "TPU",
    "gpuClass": "standard"
  },
  "cells": [
    {
      "cell_type": "markdown",
      "source": [
        "### Problem 1: Generating Some Data As A Toy Example\n",
        "\n"
      ],
      "metadata": {
        "id": "qtt-crrf_Kth"
      }
    },
    {
      "cell_type": "markdown",
      "source": [
        "Generate three clusters of data as A, B, and C. \n",
        "\n",
        "* A = 10 (x,y) samples from the gaussian distribution, with mean=(0,0), cov=I, i.\n",
        "e., N(mean,std)\n",
        "\n",
        "* B = 10 (x,y) samples from the gaussian distribution, with mean=(4,4), cov=I, i.e., N(mean,std)\n",
        "\n",
        "* C = 10 (x,y) samples from the gaussian distribution, with mean=(-4,4), cov=I, i.e., N(mean,std)\n",
        "\n",
        "*Hint: use the multivariate_normal function, and set the mean, covariance, and size for each cluster.*"
      ],
      "metadata": {
        "id": "8-JtNg1qVEKW"
      }
    },
    {
      "cell_type": "code",
      "source": [
        "import numpy as np\n",
        "# Add code here to generate the three clusters\n",
        "A = np.random.multivariate_normal(mean=[0,0],cov=np.eye(2),size=10)\n",
        "B = np.random.multivariate_normal(mean=[4,4],cov=np.eye(2),size=10)\n",
        "C = np.random.multivariate_normal(mean=[-4,4],cov=np.eye(2),size=10)"
      ],
      "metadata": {
        "id": "OS8Q_A0PB10T"
      },
      "execution_count": 24,
      "outputs": []
    },
    {
      "cell_type": "markdown",
      "source": [
        "Visualize the true distribution of the samples by plotting them in a scatter plot. Plot the x and y coordinates for each sample in A, B, and C. Try to use a for loop to do this. "
      ],
      "metadata": {
        "id": "dXL-G-GxXsIP"
      }
    },
    {
      "cell_type": "code",
      "source": [
        "import matplotlib.pyplot as plt\n",
        "color_list = ['r','g','b']\n",
        "\n",
        "# Add your code here\n",
        "for i, cluster in enumerate([A, B, C]):\n",
        "  plt.scatter(cluster[:,0],cluster[:,1], c = color_list[i])\n"
      ],
      "metadata": {
        "id": "TGD8RXxdbegZ",
        "colab": {
          "base_uri": "https://localhost:8080/",
          "height": 265
        },
        "outputId": "09fbd890-4567-4892-f9d6-7cc1ec07371e"
      },
      "execution_count": 25,
      "outputs": [
        {
          "output_type": "display_data",
          "data": {
            "text/plain": [
              "<Figure size 432x288 with 1 Axes>"
            ],
            "image/png": "[encoded data removed]"
          },
          "metadata": {
            "needs_background": "light"
          }
        }
      ]
    },
    {
      "cell_type": "markdown",
      "source": [
        "### Problem 2: How can we cluster these points if we do not know the labels?"
      ],
      "metadata": {
        "id": "qDHKZuT9G0pD"
      }
    },
    {
      "cell_type": "markdown",
      "source": [
        "First, mix and shuffle the data, which includes A, B, and C. There's a function in the numpy library that will do this. \n",
        "\n",
        "Then, visualize the data through a scatter plot. "
      ],
      "metadata": {
        "id": "o4hDPTxean17"
      }
    },
    {
      "cell_type": "code",
      "source": [
        "# Add your code here to mix and shuffle the data. Make sure data contains A, B, and C.\n",
        "data = np.concatenate([A,B,C])\n",
        "np.random.shuffle(data)\n",
        "\n",
        "# Add your code to visualize the samples through a scatter plot\n",
        "plt.scatter(data[:,0],data[:,1])"
      ],
      "metadata": {
        "colab": {
          "base_uri": "https://localhost:8080/",
          "height": 282
        },
        "id": "AvKhOTAXG4BT",
        "outputId": "953a8c73-6c7b-468e-e688-acf7d4a6cd81"
      },
      "execution_count": 26,
      "outputs": [
        {
          "output_type": "execute_result",
          "data": {
            "text/plain": [
              "<matplotlib.collections.PathCollection at 0x7f303040b430>"
            ]
          },
          "metadata": {},
          "execution_count": 26
        },
        {
          "output_type": "display_data",
          "data": {
            "text/plain": [
              "<Figure size 432x288 with 1 Axes>"
            ],
            "image/png": "[encoded data removed]"
          },
          "metadata": {
            "needs_background": "light"
          }
        }
      ]
    },
    {
      "cell_type": "markdown",
      "source": [
        "Now, implement the K-Means algorithm yourself. \n"
      ],
      "metadata": {
        "id": "qZyhgzicgbAf"
      }
    },
    {
      "cell_type": "code",
      "source": [
        "# How many clusters should you have? Set the value of K based on the number of clusters you created in Problem 1.\n",
        "K = 3\n",
        "# Select three random points as initial centers (pick any three coordinates)\n",
        "centers = np.array([[0,2],[-1,3],[2,3]])\n",
        "\n",
        "\n",
        "# Now visualize the center and the samples. You can add a 'marker' parameter in the numpy scatterplot function to visualize where the center is. \n",
        "plt.scatter(data[:,0],data[:,1])\n",
        "plt.scatter(centers[:,0],centers[:,1],c='r', marker='+')"
      ],
      "metadata": {
        "colab": {
          "base_uri": "https://localhost:8080/",
          "height": 282
        },
        "id": "x-dob_kcHC8L",
        "outputId": "ab544c4d-5bdc-4d50-97db-0f430f299867"
      },
      "execution_count": 27,
      "outputs": [
        {
          "output_type": "execute_result",
          "data": {
            "text/plain": [
              "<matplotlib.collections.PathCollection at 0x7f303042fd60>"
            ]
          },
          "metadata": {},
          "execution_count": 27
        },
        {
          "output_type": "display_data",
          "data": {
            "text/plain": [
              "<Figure size 432x288 with 1 Axes>"
            ],
            "image/png": "[encoded data removed]"
          },
          "metadata": {
            "needs_background": "light"
          }
        }
      ]
    },
    {
      "cell_type": "code",
      "source": [
        "# Create a new empty array of zeros to store the distances in \n",
        "dist = np.zeros([len(data),K])\n",
        "\n",
        "# Iterate through the clusters and fill the distance array \n",
        "# Calculate the distance between the sample to each class center. You can do this using the norm function.\n",
        "for i in range(K):\n",
        "  dist[:,i] = np.linalg.norm(data-centers[i],axis=1)"
      ],
      "metadata": {
        "id": "oGMkzaMzHEKO"
      },
      "execution_count": 28,
      "outputs": []
    },
    {
      "cell_type": "code",
      "source": [
        "# Assign the class of each sample to the closest center. You can use the numpy function argmin, which returns the indices of the minimum values along an axis.\n",
        "labels = np.argmin(dist, axis=1)\n",
        "\n",
        "# Visualize the initial cluster results for the three clusters: \n",
        "for i in range(K):\n",
        "  plt.scatter(data[labels==i][:,0],data[labels==i][:,1],c=color_list[i-1])"
      ],
      "metadata": {
        "colab": {
          "base_uri": "https://localhost:8080/",
          "height": 265
        },
        "id": "JA6ayEAeKAhQ",
        "outputId": "48945b26-d55f-480a-e2b6-c66d16960e62"
      },
      "execution_count": 29,
      "outputs": [
        {
          "output_type": "display_data",
          "data": {
            "text/plain": [
              "<Figure size 432x288 with 1 Axes>"
            ],
            "image/png": "[encoded data removed]"
          },
          "metadata": {
            "needs_background": "light"
          }
        }
      ]
    },
    {
      "cell_type": "code",
      "source": [
        "# Find new centers and assign new labels to the samples, then visualize again\n",
        "for i in range(K):\n",
        "  centers[i] = np.mean(data[labels == i],axis=0)\n",
        "\n",
        "# Calculate the new distance the way you did before\n",
        "dist = np.zeros([len(data),K])\n",
        "for i in range(K):\n",
        "  dist[:,i] = np.linalg.norm(data-centers[i],axis=1)\n",
        "\n",
        "# Assign new labels like you did before using argmin\n",
        "labels = np.argmin(dist, axis=1)\n",
        "\n",
        "# Visualize the data again \n",
        "for i in range(K):\n",
        "  plt.scatter(data[labels==i][:,0],data[labels==i][:,1],c=color_list[i-1])\n",
        "\n",
        "# Plot the centers as a scatter plot\n",
        "plt.scatter(centers[:,0],centers[:,1],c='r', marker='+')"
      ],
      "metadata": {
        "colab": {
          "base_uri": "https://localhost:8080/",
          "height": 282
        },
        "id": "D04-xAn4KiXD",
        "outputId": "e774f48a-4191-4c62-a018-40590fad3f3a"
      },
      "execution_count": 30,
      "outputs": [
        {
          "output_type": "execute_result",
          "data": {
            "text/plain": [
              "<matplotlib.collections.PathCollection at 0x7f3030355a00>"
            ]
          },
          "metadata": {},
          "execution_count": 30
        },
        {
          "output_type": "display_data",
          "data": {
            "text/plain": [
              "<Figure size 432x288 with 1 Axes>"
            ],
            "image/png": "[encoded data removed]"
          },
          "metadata": {
            "needs_background": "light"
          }
        }
      ]
    },
    {
      "cell_type": "code",
      "source": [
        "# Iterate finding new centers and assigning new labels 5 times. Hint: you have all the code for one time above. \n",
        "for iter in range(5):\n",
        "  for i in range(K):\n",
        "  # Find new centers\n",
        "    centers[i] = np.mean(data[labels == i],axis=0)\n",
        "  # Calculate the new distance\n",
        "  dist = np.zeros([len(data),K])\n",
        "  for i in range(K):\n",
        "      dist[:,i] = np.linalg.norm(data-centers[i],axis=1)\n",
        "\n",
        "  # Assign new labels\n",
        "  labels = np.argmin(dist, axis=1)\n",
        "\n",
        "  # Visualize in 5 figures respectively to see the convergence\n",
        "  plt.figure()\n",
        "  for i in range(K):\n",
        "      plt.scatter(data[labels==i][:,0],data[labels==i][:,1],c=color_list[i])\n",
        "  plt.scatter(centers[:,0],centers[:,1],c='r', marker='+')"
      ],
      "metadata": {
        "id": "qjgL94dDMFOK",
        "colab": {
          "base_uri": "https://localhost:8080/",
          "height": 1000
        },
        "outputId": "03ff89be-da1c-4c15-eb58-d4f30b64006e"
      },
      "execution_count": 31,
      "outputs": [
        {
          "output_type": "display_data",
          "data": {
            "text/plain": [
              "<Figure size 432x288 with 1 Axes>"
            ],
            "image/png": "[encoded data removed]"
          },
          "metadata": {
            "needs_background": "light"
          }
        },
        {
          "output_type": "display_data",
          "data": {
            "text/plain": [
              "<Figure size 432x288 with 1 Axes>"
            ],
            "image/png": "[encoded data removed]"
          },
          "metadata": {
            "needs_background": "light"
          }
        },
        {
          "output_type": "display_data",
          "data": {
            "text/plain": [
              "<Figure size 432x288 with 1 Axes>"
            ],
            "image/png": "[encoded data removed]"
          },
          "metadata": {
            "needs_background": "light"
          }
        },
        {
          "output_type": "display_data",
          "data": {
            "text/plain": [
              "<Figure size 432x288 with 1 Axes>"
            ],
            "image/png": "[encoded data removed]"
          },
          "metadata": {
            "needs_background": "light"
          }
        },
        {
          "output_type": "display_data",
          "data": {
            "text/plain": [
              "<Figure size 432x288 with 1 Axes>"
            ],
            "image/png": "[encoded data removed]"
          },
          "metadata": {
            "needs_background": "light"
          }
        }
      ]
    }
  ]
}