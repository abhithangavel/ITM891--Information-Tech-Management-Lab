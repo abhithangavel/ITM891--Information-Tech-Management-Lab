{
  "nbformat": 4,
  "nbformat_minor": 0,
  "metadata": {
    "colab": {
      "provenance": []
    },
    "kernelspec": {
      "name": "python3",
      "display_name": "Python 3"
    },
    "language_info": {
      "name": "python"
    },
    "accelerator": "TPU",
    "gpuClass": "standard"
  },
  "cells": [
    {
      "cell_type": "markdown",
      "source": [
        "### Problem 1: Generating Some Data As A Toy Example\n",
        "\n"
      ],
      "metadata": {
        "id": "qtt-crrf_Kth"
      }
    },
    {
      "cell_type": "markdown",
      "source": [
        "Generate three clusters of data as A, B, and C. \n",
        "\n",
        "* A = 10 (x,y) samples from the gaussian distribution, with mean=(0,0), cov=I, i.\n",
        "e., N(mean,std)\n",
        "\n",
        "* B = 10 (x,y) samples from the gaussian distribution, with mean=(4,4), cov=I, i.e., N(mean,std)\n",
        "\n",
        "* C = 10 (x,y) samples from the gaussian distribution, with mean=(-4,4), cov=I, i.e., N(mean,std)\n",
        "\n",
        "*Hint: use the multivariate_normal function, and set the mean, covariance, and size for each cluster.*"
      ],
      "metadata": {
        "id": "8-JtNg1qVEKW"
      }
    },
    {
      "cell_type": "code",
      "source": [
        "import numpy as np\n",
        "# Add code here to generate the three clusters\n",
        "A = np.random.multivariate_normal(mean=[0,0],cov=np.eye(2),size=10)\n",
        "B = np.random.multivariate_normal(mean=[4,4],cov=np.eye(2),size=10)\n",
        "C = np.random.multivariate_normal(mean=[-4,4],cov=np.eye(2),size=10)"
      ],
      "metadata": {
        "id": "OS8Q_A0PB10T"
      },
      "execution_count": 1,
      "outputs": []
    },
    {
      "cell_type": "markdown",
      "source": [
        "Visualize the true distribution of the samples by plotting them in a scatter plot. Plot the x and y coordinates for each sample in A, B, and C. Try to use a for loop to do this. "
      ],
      "metadata": {
        "id": "dXL-G-GxXsIP"
      }
    },
    {
      "cell_type": "code",
      "source": [
        "import matplotlib.pyplot as plt\n",
        "color_list = ['r','g','b']\n",
        "\n",
        "# Add your code here\n",
        "\n",
        "plt.scatter(A[:,0],A[:,1], c = color_list[0])\n",
        "plt.scatter(B[:,0],B[:,1], c = color_list[1])\n",
        "plt.scatter(C[:,0],C[:,1], c = color_list[2])"
      ],
      "metadata": {
        "id": "TGD8RXxdbegZ",
        "colab": {
          "base_uri": "https://localhost:8080/",
          "height": 282
        },
        "outputId": "38c476d6-c2a4-4df4-f825-cea8341b7009"
      },
      "execution_count": 2,
      "outputs": [
        {
          "output_type": "execute_result",
          "data": {
            "text/plain": [
              "<matplotlib.collections.PathCollection at 0x7f98f7b97670>"
            ]
          },
          "metadata": {},
          "execution_count": 2
        },
        {
          "output_type": "display_data",
          "data": {
            "text/plain": [
              "<Figure size 432x288 with 1 Axes>"
            ],
            "image/png": "[encoded data removed]"
          },
          "metadata": {
            "needs_background": "light"
          }
        }
      ]
    },
    {
      "cell_type": "markdown",
      "source": [
        "### Problem 2: How can we cluster these points if we do not know the labels?"
      ],
      "metadata": {
        "id": "qDHKZuT9G0pD"
      }
    },
    {
      "cell_type": "markdown",
      "source": [
        "First, mix and shuffle the data, which includes A, B, and C. There's a function in the numpy library that will do this. \n",
        "\n",
        "Then, visualize the data through a scatter plot. "
      ],
      "metadata": {
        "id": "o4hDPTxean17"
      }
    },
    {
      "cell_type": "code",
      "source": [
        "# Add your code here to mix and shuffle the data. Make sure data contains A, B, and C.\n",
        "data = np.concatenate([A,B,C])\n",
        "np.random.shuffle(data)\n",
        "\n",
        "# Add your code to visualize the samples through a scatter plot\n",
        "plt.scatter(data[:,0],data[:,1])"
      ],
      "metadata": {
        "colab": {
          "base_uri": "https://localhost:8080/",
          "height": 282
        },
        "id": "AvKhOTAXG4BT",
        "outputId": "e936bf53-498f-437b-adb4-6da8bddccebd"
      },
      "execution_count": 3,
      "outputs": [
        {
          "output_type": "execute_result",
          "data": {
            "text/plain": [
              "<matplotlib.collections.PathCollection at 0x7f98f4492520>"
            ]
          },
          "metadata": {},
          "execution_count": 3
        },
        {
          "output_type": "display_data",
          "data": {
            "text/plain": [
              "<Figure size 432x288 with 1 Axes>"
            ],
            "image/png": "[encoded data removed]"
          },
          "metadata": {
            "needs_background": "light"
          }
        }
      ]
    },
    {
      "cell_type": "markdown",
      "source": [
        "Now, implement the K-Means algorithm yourself. \n"
      ],
      "metadata": {
        "id": "qZyhgzicgbAf"
      }
    },
    {
      "cell_type": "code",
      "source": [
        "# How many clusters should you have? Set the value of K based on the number of clusters you created in Problem 1.\n",
        "K = 3\n",
        "# Select three random points as initial centers (pick any three coordinates)\n",
        "centers = np.array([[0,2],[-1,3],[2,3]])\n",
        "\n",
        "\n",
        "# Now visualize the center and the samples. You can add a 'marker' parameter in the numpy scatterplot function to visualize where the center is. \n",
        "plt.scatter(data[:,0],data[:,1])\n",
        "plt.scatter(centers[:,0],centers[:,1],c='r', marker='+')"
      ],
      "metadata": {
        "colab": {
          "base_uri": "https://localhost:8080/",
          "height": 282
        },
        "id": "x-dob_kcHC8L",
        "outputId": "a185f6a3-2c46-4279-c67c-c78109b5ef2b"
      },
      "execution_count": 4,
      "outputs": [
        {
          "output_type": "execute_result",
          "data": {
            "text/plain": [
              "<matplotlib.collections.PathCollection at 0x7f98f43fdfa0>"
            ]
          },
          "metadata": {},
          "execution_count": 4
        },
        {
          "output_type": "display_data",
          "data": {
            "text/plain": [
              "<Figure size 432x288 with 1 Axes>"
            ],
            "image/png": "[encoded data removed]"
          },
          "metadata": {
            "needs_background": "light"
          }
        }
      ]
    },
    {
      "cell_type": "code",
      "source": [
        "# Create a new empty array of zeros to store the distances in \n",
        "dist = np.zeros([len(data),K])\n",
        "\n",
        "# Iterate through the clusters and fill the distance array \n",
        "# Calculate the distance between the sample to each class center. You can do this using the norm function.\n",
        "for i in range(K):\n",
        "  dist[:,i] = np.linalg.norm(data-centers[i],axis=1)"
      ],
      "metadata": {
        "id": "oGMkzaMzHEKO"
      },
      "execution_count": 5,
      "outputs": []
    },
    {
      "cell_type": "code",
      "source": [
        "# Assign the class of each sample to the closest center. You can use the numpy function argmin, which returns the indices of the minimum values along an axis.\n",
        "labels = np.argmin(dist, axis=1)\n",
        "\n",
        "# Visualize the initial cluster results for the three clusters: \n",
        "for i in range(K):\n",
        "  plt.scatter(data[labels==i][:,0],data[labels==i][:,1],c=color_list[i-1])"
      ],
      "metadata": {
        "colab": {
          "base_uri": "https://localhost:8080/",
          "height": 265
        },
        "id": "JA6ayEAeKAhQ",
        "outputId": "ec7cef32-5740-49d3-a654-215877dd73a5"
      },
      "execution_count": 6,
      "outputs": [
        {
          "output_type": "display_data",
          "data": {
            "text/plain": [
              "<Figure size 432x288 with 1 Axes>"
            ],
            "image/png": "[encoded data removed]"
          },
          "metadata": {
            "needs_background": "light"
          }
        }
      ]
    },
    {
      "cell_type": "code",
      "source": [
        "# Find new centers and assign new labels to the samples, then visualize again\n",
        "for i in range(K):\n",
        "  centers[i] = np.mean(data[labels == i],axis=0)\n",
        "\n",
        "# Calculate the new distance the way you did before\n",
        "dist = np.zeros([len(data),K])\n",
        "for i in range(K):\n",
        "  dist[:,i] = np.linalg.norm(data-centers[i],axis=1)\n",
        "\n",
        "# Assign new labels like you did before using argmin\n",
        "labels = np.argmin(dist, axis=1)\n",
        "\n",
        "# Visualize the data again \n",
        "for i in range(K):\n",
        "  plt.scatter(data[labels==i][:,0],data[labels==i][:,1],c=color_list[i-1])\n",
        "\n",
        "# Plot the centers as a scatter plot\n",
        "plt.scatter(centers[:,0],centers[:,1],c='r', marker='+')"
      ],
      "metadata": {
        "colab": {
          "base_uri": "https://localhost:8080/",
          "height": 282
        },
        "id": "D04-xAn4KiXD",
        "outputId": "87882f2b-cb28-45e0-ac40-141b78045745"
      },
      "execution_count": 7,
      "outputs": [
        {
          "output_type": "execute_result",
          "data": {
            "text/plain": [
              "<matplotlib.collections.PathCollection at 0x7f98f43480d0>"
            ]
          },
          "metadata": {},
          "execution_count": 7
        },
        {
          "output_type": "display_data",
          "data": {
            "text/plain": [
              "<Figure size 432x288 with 1 Axes>"
            ],
            "image/png": "[encoded data removed]"
          },
          "metadata": {
            "needs_background": "light"
          }
        }
      ]
    },
    {
      "cell_type": "code",
      "source": [
        "# Iterate finding new centers and assigning new labels 5 times. Hint: you have all the code for one time above. \n",
        "for iter in range(5):\n",
        "  for i in range(K):\n",
        "  # Find new centers\n",
        "    centers[i] = np.mean(data[labels == i],axis=0)\n",
        "  # Calculate the new distance\n",
        "  dist = np.zeros([len(data),K])\n",
        "  for i in range(K):\n",
        "      dist[:,i] = np.linalg.norm(data-centers[i],axis=1)\n",
        "\n",
        "  # Assign new labels\n",
        "  labels = np.argmin(dist, axis=1)\n",
        "\n",
        "  # Visualize in 5 figures respectively to see the convergence\n",
        "  plt.figure()\n",
        "  for i in range(K):\n",
        "      plt.scatter(data[labels==i][:,0],data[labels==i][:,1],c=color_list[i])\n",
        "  plt.scatter(centers[:,0],centers[:,1],c='r', marker='+')"
      ],
      "metadata": {
        "id": "qjgL94dDMFOK",
        "colab": {
          "base_uri": "https://localhost:8080/",
          "height": 1000
        },
        "outputId": "5d15df2b-ac6a-4a11-be51-559c5da16437"
      },
      "execution_count": 9,
      "outputs": [
        {
          "output_type": "display_data",
          "data": {
            "text/plain": [
              "<Figure size 432x288 with 1 Axes>"
            ],
            "image/png": "[encoded data removed]"
          },
          "metadata": {
            "needs_background": "light"
          }
        },
        {
          "output_type": "display_data",
          "data": {
            "text/plain": [
              "<Figure size 432x288 with 1 Axes>"
            ],
            "image/png": "[encoded data removed]"
          },
          "metadata": {
            "needs_background": "light"
          }
        },
        {
          "output_type": "display_data",
          "data": {
            "text/plain": [
              "<Figure size 432x288 with 1 Axes>"
            ],
            "image/png": "[encoded data removed]"
          },
          "metadata": {
            "needs_background": "light"
          }
        },
        {
          "output_type": "display_data",
          "data": {
            "text/plain": [
              "<Figure size 432x288 with 1 Axes>"
            ],
            "image/png": "[encoded data removed]"
          },
          "metadata": {
            "needs_background": "light"
          }
        },
        {
          "output_type": "display_data",
          "data": {
            "text/plain": [
              "<Figure size 432x288 with 1 Axes>"
            ],
            "image/png": "[encoded data removed]"
          },
          "metadata": {
            "needs_background": "light"
          }
        }
      ]
    }
  ]
}