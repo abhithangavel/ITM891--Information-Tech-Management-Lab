{
  "nbformat": 4,
  "nbformat_minor": 0,
  "metadata": {
    "colab": {
      "provenance": []
    },
    "kernelspec": {
      "name": "python3",
      "display_name": "Python 3"
    },
    "language_info": {
      "name": "python"
    }
  },
  "cells": [
    {
      "cell_type": "markdown",
      "source": [
        "##Eigenvalues and Eigenvectors\n",
        "\n",
        "Eigenvectors are unit vectors with length or magnitude equal to 1. Eigenvalues are coefficients applied to eigenvectors that give the vectors their length or magnitude.\n",
        "\n",
        "PCA uses eigendecomposition. A matrix is decomposed into:\n",
        "\n",
        "* A diagonal matrix formed from eigenvalues of the matrix\n",
        "\n",
        "* A matrix formed by the eigenvectors of the matrix\n",
        "\n",
        "Additionally, PCA is a method that: \n",
        "* Measures how each variable is associated with one another using a covariance matrix\n",
        "* Understands the directions of the spread of our data using eigenvectors\n",
        "* Brings out the relative importance of these directions using eigenvalues\n",
        "\n",
        "\n",
        "From CSE 801 Lecture 4 Slides: \n",
        "\n",
        "By finding the eigenvalues and eigenvectors of the covariance\n",
        "matrix of data, we find that the eigenvectors with the largest\n",
        "eigenvalues correspond to the dimensions that have the strongest\n",
        "correlation in the dataset.\n",
        "\n",
        "\n",
        "---"
      ],
      "metadata": {
        "id": "t_erxIf42K1T"
      }
    },
    {
      "cell_type": "markdown",
      "source": [
        "*Note: for the coding problems, you can use a preexisting function in either numpy or the numpy.linalg library to answer most/all of the parts.*\n",
        "\n",
        "*For reference:* https://numpy.org/doc/stable/reference/routines.linalg.html"
      ],
      "metadata": {
        "id": "JDKsKcyckDzw"
      }
    },
    {
      "cell_type": "markdown",
      "source": [
        "###Problem 1\n",
        "Given matrix A, and **using np and the np.linalg library**:\n",
        "\\begin{equation*}\n",
        "A = \n",
        "\\begin{bmatrix}\n",
        "1 & 3 \\\\\n",
        "6 & 2 \\\\\n",
        "\\end{bmatrix}\n",
        "\\end{equation*}\n",
        "a) Calculate the eigenvalues and eigenvectors for matrix A. Make sure you indicate which are the eigenvalues and which are the eigenvectors through a comment or print statement. \n",
        "\n",
        "b) Calculate the product of the eigenvalues of A which you found in part a. \n",
        "\n",
        "c) Geometrically, the determinant is seen as the volume scaling factor of the linear transformation defined by the matrix. They can be considered as functions of stretching out and the shrinking in of the matrices. Determinants take a square matrix as the input and return a single number as output.  Calculate the determinant of A, and write a few words comparing your answer to your answer in part b. \n",
        "\n",
        "d) Given any n × n real or complex matrix A, there is\n",
        "\n",
        "![image.png](data:image/png;base64,iVBORw0KGgoAAAANSUhEUgAAAHUAAAA3CAYAAAAylAXbAAAFF0lEQVR4nO2c25naRhSAf8V+N6SBoDSwSwWGrUC4AC+kAjYNeKkguw3ErAuI2QZsXIHZCowrAL/ljTwcTWYkS2gkjZCw5/8+fVx0G+bMnNscAR6Px+PxnCUj4Dp+fwm8AQbtNQd+afPmPwA9RKgzYI0I8wl432ajPPUYIYLcAJHx3aa1Fnmc0AcOxuf7ePOcMRNE9Sq2wBiYttMcb1Nd8JKkUH8Ddoi99ZwpEUkBRsC8pbZ4PJ6zIWi7AWdAgHi3Zl+lP+d9l8eh+BBPU6zj7eB48yFPizyiBfEZiUmD1EbGd0F87AgJeRZIQkJdaxfv97RAH4k7Xc2wED3zZzWvdVJcJrNbTYzHDEmqzomDa95wRqnEJXaZlEvsgvMV0qltsyCpOkMH13xEMk9FtOrM3mKnnkKkc9ZFB6LVXxfsj+kwfXRwvR7HB0cvvueOGtphhsygKoTAHrvOv0d3js2In+GmE+vSR36javviRPfdAl+qnrzATh1kscRulgYkO8bmHNWZLlReXSYk7WvV/iqDmgSVzNAT1Rqplp5sbjojKdQddjbjARk4XcDUNF9o3jQoc1Xq9/cQe3hAvLIxWkADJNZ6iajmkO8T2Gr02rBGBGTGfzau/Z+IGupKBsyMOVcnup/tBADgDt3IDfAJrRanxr5HZLSkdfwCO6dHjbghSTVmc+4V9jY4KxGQt1VlSFLj3NS4lg03VAinxhy3EQe0I3RLUhWskIFQxD06NgtIBvVFwvq9oH2KedyW9LbO2eoskamOVmakydCrkgq2EWrejFpTLFTlIJmq1oz9ihwmlVQ/hWNShhXJNGJTLNGaIcuG7xEzCejKBxub+JTzfYCM1GNMgRfABTLTb5EKAcVri/t3kSnwNX4f0kwGbIn0sVLxUcYxI4xJ9zx+DVKvY8Rubo0T9zk3tYlPr5HZ/M24x1dkoFwgjteE/NJK29KQSXw9Wz5RLwbeIwP0LdJn2+OHl2aJdlb7wN/IBHhrHHNJKuX4nCQXwAfE292nGpk3mzfx8XmE8f4rvu/ADfBP/P6afKEqe5U3sBRbZODYUjmojwmBv4A/cK9+HxB5KLW6A94hQg2Rts8RoQ/ImME9RGh38efVkX1pJmSr3xAZvct4/5ikegrjBu/Qdiki226+otwi9CnoI4JswvN9QAZwWp2rqOEGkcsdYgJyw6opMtI/ox0aVXlubmkvTyUf0h5s1rmzgv3K6UoL7x670OeUqJjbNSNEoHkp2w1JDbPCYhGlymxIC8w1m4avX5YH2h1kSkYDZAD0aMBJG9Pcj7zCvQNShwXi4HVh5WiOmLcRRkjjkkfcLCCbBMhgyXLj20Dlrl0IdIz4CnUYIEJtrM64j9hDl5XpC7qTyB8jAnWROeohdrELK0+F9HA7q7pS6T5Ee/B1CRFntGuO309FH5lVdR21IRKCqBCuMcevS3FfF+kjCRO1SpXVX3lJGbUi9YJsJ+ZXitOrngYwE/Yutybi2//xM/U4pg1NP3ZRh3Re3ePx/HQ8a7sBZ0YE/EvxalEWylmqcq6nQdTf6pRhhK7taiSV52mPNScSqv8jDztUGW1XctBHSVc+eLKZIzPtFolde+gYNs0TUn3xkZZSgV6oxagHlSJ0bJmo3iuBzwt0jC3JaoSyheJrTlTi6meqHRG6EC9CBFRUm9Sa+vXqwI4pUhH5DbGrZWJN9SzSFBHyloYfg/RCtWeECKRszlaVcIJ+0sCvpXo8Hs+Px39ElXoDbJ2VCQAAAABJRU5ErkJggg==)\n",
        "\n",
        "where λ1, ..., λn are the eigenvalues of A counted with multiplicity. This equation shows that the trace of a matrix is the sum of its eigenvalues. This holds true even if A is a real matrix and some (or all) of the eigenvalues are complex numbers. Calculate the trace of A. \n",
        "\n",
        "e) If possible, compute A*A using matrix multiplication (hint: dot product). If not, explain why it is not possible. "
      ],
      "metadata": {
        "id": "2_aeeG4CO7W0"
      }
    },
    {
      "cell_type": "code",
      "execution_count": 11,
      "metadata": {
        "id": "YYZrBzXaOxvr",
        "colab": {
          "base_uri": "https://localhost:8080/"
        },
        "outputId": "2e59a876-8596-4a52-cb34-582f717f8497"
      },
      "outputs": [
        {
          "output_type": "stream",
          "name": "stdout",
          "text": [
            "[-2.77200187  5.77200187]\n",
            "[[-0.62246561 -0.53222953]\n",
            " [ 0.78264715 -0.8466001 ]]\n",
            "-15.999999999999998\n",
            "-15.999999999999998\n",
            "3\n",
            "[[19  9]\n",
            " [18 22]]\n"
          ]
        }
      ],
      "source": [
        "import numpy as np \n",
        "from numpy.linalg import eig\n",
        "\n",
        "# Note: create matrix A using np.array\n",
        "# Add your code here \n",
        "\n",
        "A = np.array([[1,3],[6,2]])\n",
        "#print(A)\n",
        "val, vec = np.linalg.eig(A)\n",
        "print(val) #Eigenvalue\n",
        "print(vec) #Eigenvector\n",
        "\n",
        "product_val = val[0]*val[1]\n",
        "print(product_val)\n",
        "\n",
        "det_A = np.linalg.det(A)\n",
        "print(det_A)\n",
        "\n",
        "#Comparing the product of eigenvalues(product_val) and determinant of A(det_A), they both are the same.\n",
        "\n",
        "trace_A = np.trace(A)\n",
        "print(trace_A)\n",
        "\n",
        "mul_A = A @ A\n",
        "print(mul_A)"
      ]
    },
    {
      "cell_type": "markdown",
      "source": [
        "###Problem 2\n",
        "Given matrix B: \\begin{equation*}\n",
        "B = \n",
        "\\begin{bmatrix}\n",
        "4 & 2 & 1 \\\\\n",
        "6 & 0 & 7 \\\\\n",
        "3 & 1 & 3\n",
        "\\end{bmatrix}\n",
        "\\end{equation*}\n",
        "\n",
        "a) Calculate the eigenvalues and eigenvectors for matrix B. Make sure you indicate which are the eigenvalues and which are the eigenvectors through a comment or print statement. \n",
        "\n",
        "b) Calculate the determinant of B. \n",
        "\n",
        "c) If possible, perform matrix multiplication on A and B. If not, explain why it is not possible. \n"
      ],
      "metadata": {
        "id": "ICkl4xTVQJzO"
      }
    },
    {
      "cell_type": "code",
      "source": [
        "import numpy as np \n",
        "from numpy.linalg import eig\n",
        "\n",
        "# Note: create matrix B using np.array \n",
        "# Add your code here \n",
        "\n",
        "B = np.array([[4,2,1],[6,0,7],[3,1,3]])\n",
        "valB, vecB = np.linalg.eig(B)\n",
        "print(valB) #Eigenvalue\n",
        "print(vecB) #Eigenvector\n",
        "\n",
        "det_B = np.linalg.det(B)\n",
        "print(det_B)\n",
        "\n",
        "mul_AB = A @ B\n",
        "print(mul_AB) #Not possible as the multiplication on 2X2 matrix on 3X3 matrix."
      ],
      "metadata": {
        "id": "cRZHvhuHQTuN",
        "colab": {
          "base_uri": "https://localhost:8080/",
          "height": 300
        },
        "outputId": "d6a62f00-8ac7-4b35-a4de-ef213d1309ab"
      },
      "execution_count": 15,
      "outputs": [
        {
          "output_type": "stream",
          "name": "stdout",
          "text": [
            "[ 8.  1. -2.]\n",
            "[[-4.87088187e-01 -5.77350269e-01  3.16227766e-01]\n",
            " [-7.52772653e-01  5.77350269e-01 -9.48683298e-01]\n",
            " [-4.42807443e-01  5.77350269e-01 -4.82250065e-17]]\n",
            "-15.999999999999998\n"
          ]
        },
        {
          "output_type": "error",
          "ename": "ValueError",
          "evalue": "ignored",
          "traceback": [
            "\u001b[0;31m---------------------------------------------------------------------------\u001b[0m",
            "\u001b[0;31mValueError\u001b[0m                                Traceback (most recent call last)",
            "\u001b[0;32m<ipython-input-15-ec8c52f0b7b3>\u001b[0m in \u001b[0;36m<module>\u001b[0;34m\u001b[0m\n\u001b[1;32m     13\u001b[0m \u001b[0mprint\u001b[0m\u001b[0;34m(\u001b[0m\u001b[0mdet_B\u001b[0m\u001b[0;34m)\u001b[0m\u001b[0;34m\u001b[0m\u001b[0;34m\u001b[0m\u001b[0m\n\u001b[1;32m     14\u001b[0m \u001b[0;34m\u001b[0m\u001b[0m\n\u001b[0;32m---> 15\u001b[0;31m \u001b[0mmul_AB\u001b[0m \u001b[0;34m=\u001b[0m \u001b[0mA\u001b[0m \u001b[0;34m@\u001b[0m \u001b[0mB\u001b[0m\u001b[0;34m\u001b[0m\u001b[0;34m\u001b[0m\u001b[0m\n\u001b[0m\u001b[1;32m     16\u001b[0m \u001b[0mprint\u001b[0m\u001b[0;34m(\u001b[0m\u001b[0mmul_AB\u001b[0m\u001b[0;34m)\u001b[0m\u001b[0;34m\u001b[0m\u001b[0;34m\u001b[0m\u001b[0m\n",
            "\u001b[0;31mValueError\u001b[0m: matmul: Input operand 1 has a mismatch in its core dimension 0, with gufunc signature (n?,k),(k,m?)->(n?,m?) (size 3 is different from 2)"
          ]
        }
      ]
    },
    {
      "cell_type": "markdown",
      "source": [
        "###Problem 3 \n",
        "a) Explain what a diagonal matrix, identity matrix, and square matrix is. \n",
        "\n",
        "\n",
        "b) True or false: Non-square matrices can have eigenvalues and eigenvectors. Explain your answer.\n",
        "\n",
        "\n",
        "c) True or false: If A is a square matrix and a non-zero vector v is an eigenvector of A, if there is a scalar (eigenvalue) λ such that Av = λv, A multiplying with the eigenvector changes its direction. Explain your answer.\n"
      ],
      "metadata": {
        "id": "2bxBUmtn7G_X"
      }
    },
    {
      "cell_type": "markdown",
      "source": [
        "Answer:\n",
        "\n",
        "a) Diagonal Matrix:\n",
        "A diagonal matrix is a square matrix where all the elements are 0 except for those in the diagonal from the top left corner to the bottom right corner.\n",
        "\n",
        "Identity Matrix:\n",
        "A scalar matrix whose diagonal elements are all 1 is called a identity matrix\n",
        "\n",
        "Square Matrix:\n",
        "A matrix where the number of rows is equal to the number of columns is called a square matrix.\n",
        "\n",
        "b) False. Eigenvalues and Eigenvector are only for square matrices.\n",
        "\n",
        "c) False. Eigenvectors do not change direction when a linear transformation (e.g. scaling) is applied to them.\n"
      ],
      "metadata": {
        "id": "51HuYWR4uthA"
      }
    },
    {
      "cell_type": "markdown",
      "source": [
        "###Problem 4\n",
        "\n",
        "Explain how eigenvalues and eigenvectors relate to covariance in a few sentences (in your own words). \n"
      ],
      "metadata": {
        "id": "tBuvrDZQ8M4W"
      }
    },
    {
      "cell_type": "markdown",
      "source": [
        "Answer:\n",
        "The covariance matrix defines both the spread (variance), and the orientation (covariance) of data. Eigenvector always points into the direction of the largest spread of the data, and magnitude (Eigenvalue) equals the spread (variance) in that direction."
      ],
      "metadata": {
        "id": "kvt0M2vXv-E9"
      }
    }
  ]
}